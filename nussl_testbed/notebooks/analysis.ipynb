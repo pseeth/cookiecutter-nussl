{
 "cells": [
  {
   "cell_type": "code",
   "execution_count": 1,
   "metadata": {},
   "outputs": [],
   "source": [
    "import sys\n",
    "sys.path.insert(0, '..')"
   ]
  },
  {
   "cell_type": "markdown",
   "metadata": {},
   "source": [
    "# Analyzing a run\n",
    "\n",
    "Below is some helper code for quickly visualizing and analyzing a set of experiments. Using the helper function in `analyze.py`, each experiment is loaded into a pandas DataFrame, with the metrics reported (e.g. SDR, SIR, SAR) for \n",
    "each file in the test dataset. All of the associated configuration info for each experiment is also reported alongside\n",
    "the metrics, making it easy to test the effect of different parameters on the performance.\n",
    "\n",
    "Since the test script altered the number of layers and the bidirectionality of the recurrent stack, the analysis below shows the effects of those parameters."
   ]
  },
  {
   "cell_type": "markdown",
   "metadata": {},
   "source": [
    "## Loading the dataframes"
   ]
  },
  {
   "cell_type": "code",
   "execution_count": 8,
   "metadata": {},
   "outputs": [
    {
     "name": "stderr",
     "output_type": "stream",
     "text": [
      "2020-01-12:17:16:51,724 INFO     [experiment_utils.py:50] Experiment is already set up @ /home/pseetharaman/artifacts//cookiecutter/music/5f3e44cd6ed14bb3be13be8c44250f12!\n",
      "COMET INFO: old comet version (2.0.18) detected. current: 3.0.2 please update your comet lib with command: `pip install --no-cache-dir --upgrade comet_ml`\n",
      "COMET INFO: Experiment is live on comet.ml https://www.comet.ml/pseeth/cookiecutter-music/5f3e44cd6ed14bb3be13be8c44250f12\n",
      "\n",
      "2020-01-12:17:16:52,585 INFO     [experiment_utils.py:50] Experiment is already set up @ /home/pseetharaman/artifacts//cookiecutter/music/0707b7df620742f6a184b8340253088c!\n",
      "COMET INFO: old comet version (2.0.18) detected. current: 3.0.2 please update your comet lib with command: `pip install --no-cache-dir --upgrade comet_ml`\n",
      "COMET INFO: Experiment is live on comet.ml https://www.comet.ml/pseeth/cookiecutter-music/0707b7df620742f6a184b8340253088c\n",
      "\n",
      "2020-01-12:17:16:53,440 INFO     [experiment_utils.py:50] Experiment is already set up @ /home/pseetharaman/artifacts//cookiecutter/music/1231bde463514088a4a6b32f305b480e!\n",
      "COMET INFO: old comet version (2.0.18) detected. current: 3.0.2 please update your comet lib with command: `pip install --no-cache-dir --upgrade comet_ml`\n",
      "COMET INFO: Experiment is live on comet.ml https://www.comet.ml/pseeth/cookiecutter-music/1231bde463514088a4a6b32f305b480e\n",
      "\n",
      "2020-01-12:17:16:54,338 INFO     [experiment_utils.py:50] Experiment is already set up @ /home/pseetharaman/artifacts//cookiecutter/music/142f4613f4c34f4aa96e19fceed1efc8!\n",
      "COMET INFO: old comet version (2.0.18) detected. current: 3.0.2 please update your comet lib with command: `pip install --no-cache-dir --upgrade comet_ml`\n",
      "COMET INFO: Experiment is live on comet.ml https://www.comet.ml/pseeth/cookiecutter-music/142f4613f4c34f4aa96e19fceed1efc8\n",
      "\n"
     ]
    }
   ],
   "source": [
    "from scripts import analyze\n",
    "from runners.utils import load_yaml\n",
    "import pandas as pd\n",
    "import matplotlib.pyplot as plt\n",
    "\n",
    "jobs = load_yaml('../experiments/out/music_dpcl/analyze.yml')['jobs']\n",
    "data = []\n",
    "for _job in jobs:\n",
    "    _data, _config, _exp = analyze.main(_job['config'])\n",
    "    data.append(_data)"
   ]
  },
  {
   "cell_type": "markdown",
   "metadata": {},
   "source": [
    "### Listing all the possible keys contained in the DataFrame"
   ]
  },
  {
   "cell_type": "code",
   "execution_count": 4,
   "metadata": {},
   "outputs": [
    {
     "data": {
      "text/plain": [
       "Index(['experiment_key', 'notes', 'file_name', 'dataset', 'source_name',\n",
       "       'algorithm_config_args_clustering_options_posterior_alpha',\n",
       "       'algorithm_config_args_enhancement_amount',\n",
       "       'algorithm_config_args_mask_type', 'algorithm_config_args_model_path',\n",
       "       'algorithm_config_args_num_sources', 'algorithm_config_args_percentile',\n",
       "       'algorithm_config_class', 'dataset_config_cache',\n",
       "       'dataset_config_data_keys_for_training',\n",
       "       'dataset_config_excerpt_selection_strategy', 'dataset_config_format',\n",
       "       'dataset_config_fraction_of_dataset', 'dataset_config_group_sources',\n",
       "       'dataset_config_hop_length', 'dataset_config_ignore_sources',\n",
       "       'dataset_config_length', 'dataset_config_n_fft',\n",
       "       'dataset_config_num_channels', 'dataset_config_output_type',\n",
       "       'dataset_config_overwrite_cache', 'dataset_config_sample_rate',\n",
       "       'dataset_config_source_labels', 'dataset_config_use_librosa_stft',\n",
       "       'dataset_config_weight_threshold', 'dataset_config_weight_type',\n",
       "       'datasets_test_class', 'datasets_test_folder', 'datasets_train_class',\n",
       "       'datasets_train_folder', 'datasets_val_class', 'datasets_val_folder',\n",
       "       'info_blocking', 'info_experiment_key', 'info_notes', 'info_num_gpus',\n",
       "       'info_output_folder', 'info_project_name', 'info_spreadsheet_name',\n",
       "       'info_worksheet_name', 'model_config_class', 'model_config_connections',\n",
       "       'model_config_modules_embedding_args_activation',\n",
       "       'model_config_modules_embedding_args_embedding_size',\n",
       "       'model_config_modules_embedding_args_hidden_size',\n",
       "       'model_config_modules_embedding_args_num_channels',\n",
       "       'model_config_modules_embedding_args_num_features',\n",
       "       'model_config_modules_embedding_class',\n",
       "       'model_config_modules_log_spectrogram_input_shape',\n",
       "       'model_config_modules_mel_projection_args_clamp',\n",
       "       'model_config_modules_mel_projection_args_direction',\n",
       "       'model_config_modules_mel_projection_args_num_frequencies',\n",
       "       'model_config_modules_mel_projection_args_num_mels',\n",
       "       'model_config_modules_mel_projection_args_sample_rate',\n",
       "       'model_config_modules_mel_projection_args_trainable',\n",
       "       'model_config_modules_mel_projection_class',\n",
       "       'model_config_modules_normalization_args_use_batch_norm',\n",
       "       'model_config_modules_normalization_class',\n",
       "       'model_config_modules_recurrent_stack_args_bidirectional',\n",
       "       'model_config_modules_recurrent_stack_args_dropout',\n",
       "       'model_config_modules_recurrent_stack_args_hidden_size',\n",
       "       'model_config_modules_recurrent_stack_args_num_features',\n",
       "       'model_config_modules_recurrent_stack_args_num_layers',\n",
       "       'model_config_modules_recurrent_stack_args_rnn_type',\n",
       "       'model_config_modules_recurrent_stack_class', 'model_config_output',\n",
       "       'test_config_num_workers',\n",
       "       'test_config_testers_ScaleInvariantSDR_compute_permutation',\n",
       "       'test_config_testers_ScaleInvariantSDR_scaling',\n",
       "       'test_config_testers_ScaleInvariantSDR_source_labels',\n",
       "       'test_config_use_blocking_executor', 'train_config_batch_size',\n",
       "       'train_config_class', 'train_config_curriculum_learning',\n",
       "       'train_config_data_parallel', 'train_config_device',\n",
       "       'train_config_initial_length', 'train_config_learning_rate',\n",
       "       'train_config_learning_rate_decay', 'train_config_loss_function',\n",
       "       'train_config_num_epochs', 'train_config_num_workers',\n",
       "       'train_config_optimizer', 'train_config_patience',\n",
       "       'train_config_sample_strategy', 'train_config_weight_decay', 'SAR',\n",
       "       'SDR', 'SIR'],\n",
       "      dtype='object')"
      ]
     },
     "execution_count": 4,
     "metadata": {},
     "output_type": "execute_result"
    }
   ],
   "source": [
    "d.keys()"
   ]
  },
  {
   "cell_type": "markdown",
   "metadata": {},
   "source": [
    "## Effect of bidirectionality"
   ]
  },
  {
   "cell_type": "code",
   "execution_count": 9,
   "metadata": {},
   "outputs": [
    {
     "data": {
      "text/plain": [
       "<matplotlib.axes._subplots.AxesSubplot at 0x7ffab9264b38>"
      ]
     },
     "execution_count": 9,
     "metadata": {},
     "output_type": "execute_result"
    },
    {
     "data": {
      "image/png": "[encoded data removed]",
      "text/plain": [
       "<Figure size 432x288 with 1 Axes>"
      ]
     },
     "metadata": {
      "needs_background": "light"
     },
     "output_type": "display_data"
    }
   ],
   "source": [
    "data = pd.concat(data)\n",
    "data.boxplot(column='SDR', by='model_config_modules_recurrent_stack_args_bidirectional')"
   ]
  },
  {
   "cell_type": "markdown",
   "metadata": {},
   "source": [
    "## Effect of number of layers"
   ]
  },
  {
   "cell_type": "code",
   "execution_count": 11,
   "metadata": {},
   "outputs": [
    {
     "data": {
      "text/plain": [
       "<matplotlib.axes._subplots.AxesSubplot at 0x7ff9ad4f8dd8>"
      ]
     },
     "execution_count": 11,
     "metadata": {},
     "output_type": "execute_result"
    },
    {
     "data": {
      "image/png": "[encoded data removed]",
      "text/plain": [
       "<Figure size 432x288 with 1 Axes>"
      ]
     },
     "metadata": {
      "needs_background": "light"
     },
     "output_type": "display_data"
    }
   ],
   "source": [
    "data.boxplot(column='SDR', by='model_config_modules_recurrent_stack_args_num_layers')"
   ]
  }
 ],
 "metadata": {
  "kernelspec": {
   "display_name": "Python 3",
   "language": "python",
   "name": "python3"
  },
  "language_info": {
   "codemirror_mode": {
    "name": "ipython",
    "version": 3
   },
   "file_extension": ".py",
   "mimetype": "text/x-python",
   "name": "python",
   "nbconvert_exporter": "python",
   "pygments_lexer": "ipython3",
   "version": "3.7.3"
  }
 },
 "nbformat": 4,
 "nbformat_minor": 2
}
